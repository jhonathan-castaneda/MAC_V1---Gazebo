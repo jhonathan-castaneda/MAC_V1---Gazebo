{
 "cells": [
  {
   "cell_type": "code",
   "execution_count": null,
   "metadata": {},
   "outputs": [],
   "source": [
    "import cv2\n",
    "   \n",
    "def click_event(event, x, y, flags, params):\n",
    "  \n",
    "    if event == cv2.EVENT_LBUTTONDOWN:\n",
    "\n",
    "        print(x, ' ', y)\n",
    "        font = cv2.FONT_HERSHEY_SIMPLEX\n",
    "        cv2.putText(img, str(x) + ',' +\n",
    "                    str(y), (x,y), font,\n",
    "                    0.5, (255, 0, 0), 1)\n",
    "        cv2.imshow('image', img)\n",
    "    \n",
    "    if event==cv2.EVENT_RBUTTONDOWN:\n",
    "  \n",
    "        print(x, ' ', y)\n",
    "        font = cv2.FONT_HERSHEY_SIMPLEX\n",
    "        b = img[y, x, 0]\n",
    "        g = img[y, x, 1]\n",
    "        r = img[y, x, 2]\n",
    "        cv2.putText(img, str(b) + ',' +\n",
    "                    str(g) + ',' + str(r),\n",
    "                    (x,y), font, 1,\n",
    "                    (255, 255, 0), 2)\n",
    "        cv2.imshow('image', img)\n",
    "\n",
    "if __name__==\"__main__\":\n",
    "  \n",
    "    img = cv2.imread('output/back_v_img.jpg', 1)\n",
    "    cv2.imshow('image', img)\n",
    "    cv2.setMouseCallback('image', click_event)\n",
    "    cv2.waitKey(0)\n",
    "    cv2.destroyAllWindows()"
   ]
  },
  {
   "cell_type": "code",
   "execution_count": null,
   "metadata": {},
   "outputs": [],
   "source": []
  }
 ],
 "metadata": {
  "kernelspec": {
   "display_name": "Python 3",
   "language": "python",
   "name": "python3"
  },
  "language_info": {
   "codemirror_mode": {
    "name": "ipython",
    "version": 3
   },
   "file_extension": ".py",
   "mimetype": "text/x-python",
   "name": "python",
   "nbconvert_exporter": "python",
   "pygments_lexer": "ipython3",
   "version": "3.6.9"
  }
 },
 "nbformat": 4,
 "nbformat_minor": 4
}
